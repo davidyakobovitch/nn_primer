{
 "cells": [
  {
   "cell_type": "markdown",
   "metadata": {},
   "source": [
    "#  Using Numpy for Building ANN - Matrix and Tensor Manipulations\n",
    "Resources for numpy\n",
    "http://www.scipy-lectures.org/intro/numpy/numpy.html\n",
    "\n",
    "Writeup on affine functions: http://cfsv.synechism.org/c1/sec15.pdf\n",
    "\n",
    "Notes: Above chapter gives great intro to index slicing, broadcasting, etc.  Dimension shuffling\n"
   ]
  },
  {
   "cell_type": "markdown",
   "metadata": {},
   "source": [
    "# Building Simple Neural Nets\n",
    "\n",
    "##  Include course outline\n",
    "\n",
    "##  Objectives for Today\n",
    "1.  Learn about numpy for doing vector and matrix manipulations - tensorflow is analogous to numpy matrix/tensors\n"
   ]
  },
  {
   "cell_type": "markdown",
   "metadata": {},
   "source": [
    "## Using numpy for building neural nets\n",
    "\n",
    "Numpy is an extension of python.  Numpy is designed to handle matrix manipulations in ways that are easy to code and which are optimized to execute rapidly.  The following code compares execution time for squaring a list of 1000 numbers to the time for squaring a numpy array of 1000 numbers.  As you can see from the results, the numpy array is more than an order of magnitude faster.  \n"
   ]
  },
  {
   "cell_type": "code",
   "execution_count": null,
   "metadata": {
    "collapsed": true
   },
   "outputs": [],
   "source": [
    "l = range(1000)\n",
    "%timeit [i ** 2 for i in l]"
   ]
  },
  {
   "cell_type": "code",
   "execution_count": null,
   "metadata": {
    "collapsed": true
   },
   "outputs": [],
   "source": [
    "import numpy as np\n",
    "a = np.arange(1000)\n",
    "%timeit a ** 2"
   ]
  },
  {
   "cell_type": "markdown",
   "metadata": {
    "collapsed": true
   },
   "source": [
    "## Intro to numpy\n",
    "This material is excerpted from http://www.scipy-lectures.org/intro/numpy/numpy.html.  That gives an excellent summary and is worth scanning through.  \n",
    "\n",
    "### Reference documentation  \n",
    "On the web: http://docs.scipy.org/  \n",
    "Interactive help:"
   ]
  },
  {
   "cell_type": "code",
   "execution_count": null,
   "metadata": {
    "collapsed": true
   },
   "outputs": [],
   "source": [
    "help(np.array)"
   ]
  },
  {
   "cell_type": "markdown",
   "metadata": {},
   "source": [
    "Looking for something:"
   ]
  },
  {
   "cell_type": "code",
   "execution_count": null,
   "metadata": {
    "collapsed": true,
    "scrolled": true
   },
   "outputs": [],
   "source": [
    "np.lookfor('create array')"
   ]
  },
  {
   "cell_type": "code",
   "execution_count": null,
   "metadata": {
    "collapsed": true
   },
   "outputs": [],
   "source": [
    "help(np.lookfor)"
   ]
  },
  {
   "cell_type": "markdown",
   "metadata": {},
   "source": [
    "## Creating Arrays"
   ]
  },
  {
   "cell_type": "code",
   "execution_count": null,
   "metadata": {
    "collapsed": true
   },
   "outputs": [],
   "source": [
    "#1-D Arrays\n",
    "a = np.array([0, 1, 2, 3])\n",
    "print('a ', a)\n",
    "print('a.ndim ', a.ndim) # not a column nor row vector, just a vector\n",
    "print('a.shape ', a.shape)\n",
    "print('len(a) ', len(a))"
   ]
  },
  {
   "cell_type": "code",
   "execution_count": null,
   "metadata": {
    "collapsed": true
   },
   "outputs": [],
   "source": [
    "#2-D and 3-D arrays\n",
    "b = np.array([[0, 1, 2], [3, 4, 5]])    # 2 x 3 array\n",
    "print('b ', b)\n",
    "print('b.ndim ', b.ndim)\n",
    "print('b.shape ', b.shape)\n",
    "print('len(b) ', len(b))     # returns the size of the first dimension\n",
    "print()\n",
    "\n",
    "c = np.array([[[1], [2]], [[3], [4]]])\n",
    "print('c ', c)\n",
    "print('c.shape ', c.shape)"
   ]
  },
  {
   "cell_type": "code",
   "execution_count": null,
   "metadata": {
    "collapsed": true
   },
   "outputs": [],
   "source": [
    "#Systematic ways to generate arrays\n",
    "#from arange (or range)\n",
    "print('np.arange(10) ', np.arange(10))\n",
    "print('np.array(range(10)) ', np.array(range(10)))\n",
    "\n",
    "#Evenly spaced points - notice that both ends are included in number of points\n",
    "print('np.linspace(0.0, 3.0, 7)', np.linspace(0.0, 3.0, 6)) #(start, end, num_points)"
   ]
  },
  {
   "cell_type": "code",
   "execution_count": null,
   "metadata": {
    "collapsed": true
   },
   "outputs": [],
   "source": [
    "#Common arrays\n",
    "a = np.ones((3, 3))  # reminder: (3, 3) is a tuple\n",
    "print('a ', a)\n",
    "b = np.zeros((2,2))\n",
    "print('b ', b)\n",
    "c = np.eye(3)\n",
    "print('c ', c)\n",
    "d = np.diag(np.arange(1, 5))\n",
    "print('d ', d)"
   ]
  },
  {
   "cell_type": "code",
   "execution_count": null,
   "metadata": {
    "collapsed": true
   },
   "outputs": [],
   "source": [
    "#Generating random arrays and matrices - you'll use this a lot for weight initialization\n",
    "a = np.random.rand(4)       # uniform in [0, 1]\n",
    "print('a ', a)\n",
    "\n",
    "b = np.random.randn(4)      # Gaussian\n",
    "print('b ', b)\n",
    "\n",
    "c = np.random.randn(4) \n",
    "print('c ', c)\n",
    "\n",
    "np.random.seed(1234)        # Setting the random seed to get repeatible random numbers"
   ]
  },
  {
   "cell_type": "markdown",
   "metadata": {},
   "source": [
    "## Data types\n",
    "Data types are more important in neural net calculations than in many other areas.  With neural nets data types can have a dramatic effect on the computation time.  Computations with float32 are much faster than with float64.  That's particularly true if you're doing calculations on a gpu.  In some cases gpu only supports float32.  "
   ]
  },
  {
   "cell_type": "code",
   "execution_count": null,
   "metadata": {
    "collapsed": true
   },
   "outputs": [],
   "source": [
    "# with neural nets you need to pay attention to data types\n",
    "# float64 is much more expensive to calculate than float32\n",
    "a = np.array([1, 2, 3])\n",
    "print(a.dtype)\n",
    "\n",
    "b = np.array([1., 2., 3.])\n",
    "print(b.dtype)"
   ]
  },
  {
   "cell_type": "code",
   "execution_count": null,
   "metadata": {
    "collapsed": true
   },
   "outputs": [],
   "source": [
    "# here's a timing comparison.  The difference is even more pronounced for gpu calculations\n",
    "import numpy as np\n",
    "\n",
    "a = np.arange(1000, dtype='uint8')\n",
    "print('int32')\n",
    "%timeit a * a\n",
    "\n",
    "a = np.arange(1000, dtype='float32')\n",
    "print('float32')\n",
    "%timeit a * a\n",
    "\n",
    "a = np.arange(1000, dtype='float64')\n",
    "print('float64')\n",
    "%timeit a * a"
   ]
  },
  {
   "cell_type": "markdown",
   "metadata": {},
   "source": [
    "## Plotting"
   ]
  },
  {
   "cell_type": "code",
   "execution_count": null,
   "metadata": {
    "collapsed": true
   },
   "outputs": [],
   "source": [
    "import matplotlib.pyplot as plt\n",
    "%matplotlib inline\n",
    "x = np.linspace(0, 3, 20)\n",
    "y = np.linspace(0, 9, 20)\n",
    "plt.plot(x, y)       # line plot\n",
    "plt.plot(x, y, 'o')  # dot plot\n",
    "plt.show()           # <-- shows the plot (not needed with Ipython)"
   ]
  },
  {
   "cell_type": "code",
   "execution_count": null,
   "metadata": {
    "collapsed": true
   },
   "outputs": [],
   "source": [
    "#plotting 2-D arrays (such as images)\n",
    "image = np.random.rand(30, 30)\n",
    "#possible colormaps autumn, bone, cool, copper flag gray hot hsv jet pink \n",
    "#prism spring summer winter \n",
    "plt.imshow(image, cmap=plt.cm.hsv)\n",
    "plt.colorbar()\n",
    "plt.show()"
   ]
  },
  {
   "cell_type": "markdown",
   "metadata": {},
   "source": [
    "## Index slicing"
   ]
  },
  {
   "cell_type": "code",
   "execution_count": null,
   "metadata": {
    "collapsed": true
   },
   "outputs": [],
   "source": [
    "#Here are some illustrative examples\n",
    "a = np.arange(10)\n",
    "print(a)\n",
    "print(a[0], a[2], a[-1])\n",
    "\n",
    "\n",
    "#Slicing\n",
    "a = np.diag(np.arange(3))\n",
    "print(a)\n",
    "\n",
    "print(a[1, 1])\n",
    "\n",
    "a[2, 1] = 10 # third line, second column\n",
    "print(a)\n",
    "\n",
    "print(a[1])"
   ]
  },
  {
   "cell_type": "markdown",
   "metadata": {},
   "source": [
    "## Q\n",
    "In the example above, the index a[1] prints the second (index 1) row from the matrix a.  How could you extract the second column?"
   ]
  },
  {
   "cell_type": "markdown",
   "metadata": {},
   "source": [
    "Here's a nice illustration for index slicing.  It comes from scipy documentation http://www.scipy-lectures.org/intro/numpy/numpy.html\n",
    "<img src=\"images/numpy_indexing.png\">"
   ]
  },
  {
   "cell_type": "markdown",
   "metadata": {
    "collapsed": true
   },
   "source": [
    "## Copies and views\n",
    "A slicing operation creates a view on the original array, which is just a way of accessing array data. Thus the original array is not copied in memory.\n",
    "\n",
    "When modifying the view, the original array is modified as well:"
   ]
  },
  {
   "cell_type": "code",
   "execution_count": null,
   "metadata": {
    "collapsed": true
   },
   "outputs": [],
   "source": [
    "a = np.arange(10)\n",
    "print(a)    #array([0, 1, 2, 3, 4, 5, 6, 7, 8, 9])\n",
    "b = a[::2]\n",
    "print(b)    #array([0, 2, 4, 6, 8])\n",
    "b[0] = 12\n",
    "print(b)    #array([12,  2,  4,  6,  8])\n",
    "print(a)    # array([12,  1,  2,  3,  4,  5,  6,  7,  8,  9])\n",
    "\n",
    "#if you want to make changes in b without affecting a\n",
    "a = np.arange(10)\n",
    "b = a[::2].copy()  # force a copy\n",
    "b[0] = 12\n",
    "print(b) \n",
    "print(a)"
   ]
  },
  {
   "cell_type": "code",
   "execution_count": null,
   "metadata": {
    "collapsed": true
   },
   "outputs": [],
   "source": [
    "a = np.ones((100,100))\n",
    "a += a.T\n",
    "a"
   ]
  },
  {
   "cell_type": "markdown",
   "metadata": {},
   "source": [
    "## Indexing with masks\n",
    "Numpy arrays can be indexed with slices, but also with boolean or integer arrays (masks). This method is called fancy indexing. It creates copies not view."
   ]
  },
  {
   "cell_type": "code",
   "execution_count": null,
   "metadata": {
    "collapsed": true
   },
   "outputs": [],
   "source": [
    "np.random.seed(3)\n",
    "a = np.random.random_integers(0, 20, 15)\n",
    "print(a)   #array([10,  3,  8,  0, 19, 10, 11,  9, 10,  6,  0, 20, 12,  7, 14])\n",
    "print(a % 3 == 0)  #array of trues and falses\n",
    "\n",
    "#define a mask\n",
    "mask = (a % 3 == 0)\n",
    "extract_from_a = a[mask] # or,  a[a%3==0]\n",
    "print(extract_from_a)           # extract a sub-array of %3 == 0 with the mask "
   ]
  },
  {
   "cell_type": "code",
   "execution_count": null,
   "metadata": {
    "collapsed": true
   },
   "outputs": [],
   "source": [
    "#Indexing with a mask can be very useful to assign a new value to a sub-array:  \n",
    "a[a % 3 == 0] = -1\n",
    "print(a)"
   ]
  },
  {
   "cell_type": "markdown",
   "metadata": {},
   "source": [
    "## Indexing with an Array of Integers"
   ]
  },
  {
   "cell_type": "code",
   "execution_count": null,
   "metadata": {
    "collapsed": true
   },
   "outputs": [],
   "source": [
    "a = np.arange(10)\n",
    "a[::2] += 3 # to avoid having always the same np.arange(10)\n",
    "print(a)    #array([ 3,  1,  5,  3,  7,  5,  9,  7, 11,  9])\n",
    "print(a[[2, 5, 1, 8]]) # or, a[np.array([2, 5, 1, 8])]  #array([ 5,  5,  1, 11])"
   ]
  },
  {
   "cell_type": "markdown",
   "metadata": {},
   "source": [
    "When a new array is created by indexing with an array of integers, the new array has the same shape than the array of integers:"
   ]
  },
  {
   "cell_type": "code",
   "execution_count": null,
   "metadata": {
    "collapsed": true
   },
   "outputs": [],
   "source": [
    "a = np.arange(10, 20)\n",
    "idx = np.array([[3, 4], [9, 7]])\n",
    "print(a[idx])"
   ]
  },
  {
   "cell_type": "markdown",
   "metadata": {},
   "source": [
    "## Numerical operations on arrays\n",
    "Element wise operations"
   ]
  },
  {
   "cell_type": "code",
   "execution_count": null,
   "metadata": {
    "collapsed": true
   },
   "outputs": [],
   "source": [
    "a = np.arange(5)\n",
    "print(a + 1)\n",
    "print(a ** 2)"
   ]
  },
  {
   "cell_type": "code",
   "execution_count": null,
   "metadata": {
    "collapsed": true
   },
   "outputs": [],
   "source": [
    "a = np.ones((3,3))\n",
    "b = np.arange(9).reshape((3,3))\n",
    "print(a * b)  #notice that this isn't matrix multiplication\n",
    "print(a.dot(a))  #this is matrix multiplication\n",
    "print(a + b)"
   ]
  },
  {
   "cell_type": "markdown",
   "metadata": {},
   "source": [
    "## Reductions\n",
    "Computing sums:"
   ]
  },
  {
   "cell_type": "code",
   "execution_count": null,
   "metadata": {
    "collapsed": true
   },
   "outputs": [],
   "source": [
    "x = np.array([1, 2, 3, 4])\n",
    "print(x.sum())"
   ]
  },
  {
   "cell_type": "code",
   "execution_count": null,
   "metadata": {
    "collapsed": true
   },
   "outputs": [],
   "source": [
    "#Sum by rows and by columns:\n",
    "x = np.array([[1,1],[2,2]])\n",
    "print(x.sum(axis=0))\n",
    "print(x.sum(axis=1))"
   ]
  },
  {
   "cell_type": "code",
   "execution_count": null,
   "metadata": {
    "collapsed": true
   },
   "outputs": [],
   "source": [
    "x = np.array([[[1,1],[1,1]], [[2,2],[2,2]], [[3,3], [3,3]]])\n",
    "print(x.shape)  #imagine this as 3-d rectangle h, w, d = 3, 2, 2"
   ]
  },
  {
   "cell_type": "code",
   "execution_count": null,
   "metadata": {
    "collapsed": true
   },
   "outputs": [],
   "source": [
    "print(x.sum(axis=0))\n",
    "print(x.sum(axis=1))\n",
    "print(x.sum(axis=2))"
   ]
  },
  {
   "cell_type": "markdown",
   "metadata": {},
   "source": [
    "Other reductions - stats, extrema and logical comparisons"
   ]
  },
  {
   "cell_type": "code",
   "execution_count": null,
   "metadata": {
    "collapsed": true
   },
   "outputs": [],
   "source": [
    "x = np.arange(12)\n",
    "print(x.mean())      #mean of array\n",
    "print(np.median(x))    #median\n",
    "print(x.std())       #standard deviation\n",
    "\n",
    "np.random.shuffle(x)\n",
    "print(x)\n",
    "print (x.max(), x.argmax(), x.min(), x.argmin())"
   ]
  },
  {
   "cell_type": "code",
   "execution_count": null,
   "metadata": {
    "collapsed": true
   },
   "outputs": [],
   "source": [
    "#logical comparisons\n",
    "print(x > 5)\n",
    "print(np.any(x > 5))\n",
    "print(np.all(x>5))"
   ]
  },
  {
   "cell_type": "markdown",
   "metadata": {},
   "source": [
    "## Array shape manipulation"
   ]
  },
  {
   "cell_type": "code",
   "execution_count": null,
   "metadata": {
    "collapsed": true
   },
   "outputs": [],
   "source": [
    "#Flattening\n",
    "\n",
    "a = np.array([[1, 2, 3], [4, 5, 6]])\n",
    "print(a)\n",
    "#order (0,0), (0,1), (0,2), (1,0), (1,1), (1,2)\n",
    "print(a.ravel())   #array([1, 2, 3, 4, 5, 6])  ()\n",
    "print(a.T)         #array([[1, 4], [2, 5], [3, 6]])\n",
    "#order (0,0), (0,1), (1,0), (1,1), (2,0), (2,1)\n",
    "print(a.T.ravel())  #array([1, 4, 2, 5, 3, 6])"
   ]
  },
  {
   "cell_type": "code",
   "execution_count": null,
   "metadata": {
    "collapsed": true
   },
   "outputs": [],
   "source": [
    "#reshape makes flattened array back into original\n",
    "print(a.shape)   #(2, 3)\n",
    "b = a.ravel()   \n",
    "print(b)     #array([1,2,3,4,5,6])\n",
    "print(b.reshape((2, 3)))   #array([[1, 2, 3], [4, 5, 6]])\n",
    "\n",
    "#reshape also operates on non-flat array - same as flattening and then reshaping\n",
    "print(b.reshape((3,2)))"
   ]
  },
  {
   "cell_type": "code",
   "execution_count": null,
   "metadata": {
    "collapsed": true
   },
   "outputs": [],
   "source": [
    "#leaving unspecified dimensions\n",
    "print(np.arange(24).reshape((6, -1)))\n",
    "print(np.arange(18).reshape((6, -1)))\n",
    "print(np.arange(12).reshape((6, -1)))"
   ]
  },
  {
   "cell_type": "markdown",
   "metadata": {},
   "source": [
    "## Broadcasting\n",
    "\n",
    "\n",
    "    Basic operations on numpy arrays (addition, etc.) are elementwise\n",
    "\n",
    "    This works on arrays of the same size.\n",
    "\n",
    "        Nevertheless, It’s also possible to do operations on arrays of different\n",
    "        sizes if Numpy can transform these arrays so that they all have\n",
    "        the same size: this conversion is called broadcasting.\n",
    "\n",
    "The image below gives an example of broadcasting:\n",
    "<img src=\"images/numpy_broadcasting.png\">"
   ]
  },
  {
   "cell_type": "code",
   "execution_count": null,
   "metadata": {
    "collapsed": true
   },
   "outputs": [],
   "source": [
    "a = np.tile(np.arange(0, 40, 10), (3, 1)).T\n",
    "print('a ')\n",
    "print(a)\n",
    "\n",
    "b = np.array([0, 1, 2])\n",
    "print('b')\n",
    "print(b)\n",
    "print('a + b ')\n",
    "print(a + b)"
   ]
  },
  {
   "cell_type": "code",
   "execution_count": null,
   "metadata": {
    "collapsed": true
   },
   "outputs": [],
   "source": []
  }
 ],
 "metadata": {
  "kernelspec": {
   "display_name": "Python 3",
   "language": "python",
   "name": "python3"
  },
  "language_info": {
   "codemirror_mode": {
    "name": "ipython",
    "version": 3
   },
   "file_extension": ".py",
   "mimetype": "text/x-python",
   "name": "python",
   "nbconvert_exporter": "python",
   "pygments_lexer": "ipython3",
   "version": "3.6.3"
  },
  "latex_envs": {
   "LaTeX_envs_menu_present": true,
   "autoclose": false,
   "autocomplete": true,
   "bibliofile": "biblio.bib",
   "cite_by": "apalike",
   "current_citInitial": 1,
   "eqLabelWithNumbers": true,
   "eqNumInitial": 1,
   "hotkeys": {
    "equation": "Ctrl-E",
    "itemize": "Ctrl-I"
   },
   "labels_anchors": false,
   "latex_user_defs": false,
   "report_style_numbering": false,
   "user_envs_cfg": false
  }
 },
 "nbformat": 4,
 "nbformat_minor": 1
}
