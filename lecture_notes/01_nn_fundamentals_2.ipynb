{
 "cells": [
  {
   "cell_type": "markdown",
   "metadata": {
    "collapsed": true
   },
   "source": [
    "# Building Simple Neural Networks (Pseudologistic regression)\n",
    "\n",
    "with help from these [notebooks](https://github.com/stephencwelch/Neural-Networks-Demystified)\n",
    "\n",
    "By The End Of This Session You Should Be Able To:\n",
    "----\n",
    "\n",
    "- Fit data with a pseudologistic regression/ perceptron model\n",
    "- Remember the power of matrix algebra and calculus \n",
    "- Explain the fundamentals of gradient descent"
   ]
  },
  {
   "cell_type": "markdown",
   "metadata": {},
   "source": [
    "Following on from the previous lectures, it's time to apply the ideas we've covered into a working machine learning model. Let's first spend a bit of time on the data we'll need to illustrate the idea. We will study the performance of a given student on a test (say me) with respect to hours sleeping and hours studying (the two main inputs of student performance...?). "
   ]
  },
  {
   "cell_type": "code",
   "execution_count": 1,
   "metadata": {},
   "outputs": [
    {
     "name": "stdout",
     "output_type": "stream",
     "text": [
      "Populating the interactive namespace from numpy and matplotlib\n"
     ]
    }
   ],
   "source": [
    "import seaborn as sns\n",
    "import pandas as pd\n",
    "%pylab inline"
   ]
  },
  {
   "cell_type": "code",
   "execution_count": 2,
   "metadata": {
    "collapsed": true
   },
   "outputs": [],
   "source": [
    "# X = (hours sleeping, hours studying)\n",
    "X = np.array(([3,5], [5,1], [10,2]), dtype=float)\n",
    "y = np.array(([75], [82], [93]), dtype=float)"
   ]
  },
  {
   "cell_type": "markdown",
   "metadata": {},
   "source": [
    "Now that we have some data, we’re going to use it to train a model to predict how you will do on your next test, based on how many hours you sleep and how many hours you study.\n",
    "\n",
    "\n",
    "### Review\n",
    "* What assumptions does the above statement make with respect to the design of this problem?\n",
    "* What type of machine learning problem is this?"
   ]
  },
  {
   "cell_type": "code",
   "execution_count": 3,
   "metadata": {},
   "outputs": [
    {
     "data": {
      "image/png": "[encoded data removed]",
      "text/plain": [
       "<matplotlib.figure.Figure at 0x263ff5de4a8>"
      ]
     },
     "metadata": {},
     "output_type": "display_data"
    },
    {
     "data": {
      "image/png": "[encoded data removed]",
      "text/plain": [
       "<matplotlib.figure.Figure at 0x263ff797e80>"
      ]
     },
     "metadata": {},
     "output_type": "display_data"
    }
   ],
   "source": [
    "# A little data exploration never hurt\n",
    "\n",
    "sns.regplot(x=X[:,0],\n",
    "           y=y,\n",
    "           fit_reg=False);\n",
    "plt.title(\"The effect of sleeps hours on test scores\");\n",
    "plt.xlabel('Sleep hours');\n",
    "plt.ylabel('Test Scores');\n",
    "plt.show()\n",
    "sns.regplot(x=X[:,1],\n",
    "           y=y,\n",
    "           fit_reg=False);\n",
    "plt.title(\"The effect of study hours on test scores\");\n",
    "plt.xlabel('Study hours');\n",
    "plt.ylabel('Test Scores');\n",
    "plt.show()\n"
   ]
  },
  {
   "cell_type": "markdown",
   "metadata": {},
   "source": [
    "------\n",
    "Normalization\n",
    "------\n",
    "\n",
    "Before we throw our data into the model, we need to account for differences in the units of our data. Both of our inputs are in hours, but our output is a test score, scaled between 0 and 100. \n",
    "\n",
    "Why do we do this? It is standard practice in most machine learning models. Choosing not to do it is akin to asking our model to compare apples to oranges. Models in general are set up to derive comparisons of features **relative to themselves**, (thus apples to apples). The solution is to scale the data to a uniform standard. \n",
    "\n",
    "Here, we're going to take advantage of the fact that all of our data is positive, and simply divide by the maximum value for each variable, effectively scaling the result between 0 and 1. In more complex applications, you can use scikit's [StandardScaler()](http://scikit-learn.org/stable/modules/generated/sklearn.preprocessing.StandardScaler.html), or write something similar yourself. "
   ]
  },
  {
   "cell_type": "markdown",
   "metadata": {},
   "source": [
    "## Our Network Design\n",
    "\n",
    "![](images/simpleNetwork.png)"
   ]
  },
  {
   "cell_type": "markdown",
   "metadata": {},
   "source": [
    "### A word about the above design\n",
    "\n",
    "<h3 align = 'center'> Variables </h3>\n",
    "\n",
    "|Code Symbol | Math Symbol | Definition | Dimensions\n",
    "| :-: | :-: | :-: | :-: |\n",
    "|X|$$X$$|Input Data, each row is an example| (numExamples, input_layer_size)|\n",
    "|y |$$y$$|target data|(numExamples, output_layer_size)|\n",
    "|yHat | $$\\hat{y}$$|predicted value|(numProblems, output_layer_size)|\n",
    "\n",
    "-----\n",
    "#### Parameters & hyperparameters\n",
    "----\n",
    "\n",
    "Our neural network's __parameters__ are the weights between the nodes.\n",
    "\n",
    "Our network's __hyperparameters__ are the 2 inputs, 3 hidden units, and 1 output. \n",
    "\n",
    "In general, paramters change for each dataset. Hyperparameters do __not__ change across minor changes in datasets.\n",
    "\n",
    "Today, we'll learn just the parameters. (Later we'll also learn the hyperparameters.)"
   ]
  },
  {
   "cell_type": "markdown",
   "metadata": {},
   "source": [
    "## Learning how to Predict (Training the Network)\n",
    "\n",
    "We will now introduce you to backpropagation, the process of iteratively updating the weights of a neural network. This differs from typical model optimization, because the system of neurons does not learn as a whole. Each neuron learns its parameters with respect to other neurons. Thus optimization does not take place in terms of a smooth linear descent down a loss function gradient, but instead contains a great deal of noise and change, as each neuron in the network learns to cooperate with its neighbors. This means for very large (deep) NN, a great deal of complexity is involved in optimization. \n",
    "\n",
    "\n",
    "[Backpropagation]()  takes place in 3 steps:\n",
    "1. Forward propagation - The network makes a prediction based on the current weights of each neuron.\n",
    "2. Backward propagation - The network updates the gradient based on information returned by the loss function.\n",
    "3. Update - Each neuron's weights are updated according to the gradient.\n",
    "\n",
    "Pseudocode\n",
    "\n",
    "      initialize network weights (often small random values)\n",
    "      while stopping_criterion not satisfied\n",
    "         for (training example) ex in training_samples\n",
    "            prediction = neural-net-output(network, ex)  // forward pass\n",
    "            actual = teacher-output(ex)\n",
    "            compute error (prediction - actual) at the output units\n",
    "            compute Δ w h for all weights from hidden layer to output layer \n",
    "            compute Δ w i for all weights from input layer to hidden layer \n",
    "            update network weights // input layer not modified by error estimate\n",
    "\n",
    "\n",
    "\n",
    "Each input value, or element in matrix X, needs to be multiplied by a corresponding weight and then added together with all the other results for each neuron. This is a complex operation, but if we take the three outputs we're looking for as a single row of a matrix, and place all our individual weights into a matrix of weights, we can create the exact behavior we need by multiplying our input data matrix by our weight matrix. \n",
    "\n",
    "Using matrix multiplication allows us to pass multiple inputs through at once by simply adding rows to the matrix X. From here on out, we'll refer to these matrices as X, W one, and z two, where z two the activity of our second layer. \n",
    "\n",
    "-----\n",
    "\n",
    "<h3 align = 'center'> Variables So Far</h3>\n",
    "\n",
    "|Code Symbol | Math Symbol | Definition | Dimensions\n",
    "| :-: | :-: | :-: | :-: |\n",
    "|X|$$X$$|Input Data, each row in an example| (numExamples, input_layer_size)|\n",
    "|y |$$y$$|target data|(numExamples, output_layer_size)|\n",
    "|yHat | $$\\hat{y}$$|predicted value|(numProblems, output_layer_size)|\n",
    "|W1 | $$W^{(1)}$$ | Layer 1 weights | (input_layer_size, hidden_layer_size) |\n",
    "|W2 | $$W^{(2)}$$ | Layer 2 weights | (hidden_layer_size, output_layer_size) |\n",
    "|z2 | $$z^{(2)}$$ | Layer 2 activation | (numExamples, hidden_layer_size) |\n",
    "|a2 | $$a^{(2)}$$ | Layer 2 activity | (numExamples, hidden_layer_size) |\n",
    "|z3 | $$z^{(3)}$$ | Layer 3 activation | (numExamples, output_layer_size) |\n",
    "\n",
    "\n",
    "Notice that each entry in z is a sum of weighted inputs to each hidden neuron. Z is of size 3 by 3, one row for each example, and one column for each hidden unit. Matrix notation is really nice here, because it allows us to express the complex underlying process in a single line!\n",
    "\n",
    "$$\n",
    "z^{(2)} = XW^{(1)} \\tag{1}\\\\\n",
    "$$"
   ]
  },
  {
   "cell_type": "markdown",
   "metadata": {},
   "source": [
    "## The Activation Function\n",
    "\n",
    "Once the inputs are obtained (from $W$) for our second layer, $z^{(2)}$, we need to apply the activation function. \n",
    "\n",
    "We'll independently apply the function to each entry in matrix z using a python method for this called sigmoid, because we’re using a sigmoid as our activation function. "
   ]
  },
  {
   "cell_type": "code",
   "execution_count": 4,
   "metadata": {},
   "outputs": [
    {
     "data": {
      "text/plain": [
       "array([[ 0.22503387,  0.38898943,  0.81174154],\n",
       "       [ 0.46819106,  0.42946586,  0.67095897],\n",
       "       [ 0.2313917 ,  0.67079764,  0.45470459]])"
      ]
     },
     "execution_count": 4,
     "metadata": {},
     "output_type": "execute_result"
    }
   ],
   "source": [
    "# Here is an example of how this is going to work in python\n",
    "\n",
    "def sigmoid(z):\n",
    "    \"Define sigmoid activation function to scalar, vector, or matrix\"\n",
    "    return 1/(1+np.exp(-z))\n",
    "\n",
    "sigmoid(np.random.randn(3,3))"
   ]
  },
  {
   "cell_type": "markdown",
   "metadata": {},
   "source": [
    "-----\n",
    "Forward propagation\n",
    "----\n",
    "\n",
    "Formula for forward propagation, using f to denote our activation function.\n",
    "\n",
    "We can write that $a^{(2)}$, our second layer activity, is equal to f of $z^{(2)}$. $a^{(2)}$ will be a matrix of the same size as $z^{(2)}$, 3 by 3.\n",
    "\n",
    "$$\n",
    "a^{(2)} = f(z^{(2)}) \\tag{2}\\\\\n",
    "$$\n",
    "\n",
    "To finish forward propagation we need to propagate $a^{(2)}$ all the way to the output, $\\hat{y}$. We've already done the heavy lifting in the previous layer, so all we have to do now is multiply $a^{(2)}$ by our second layer weights $W^{(2)}$ and apply one more activation function. W2 will be of size 3x1, one weight for each synapse. Multiplying $a^{(2)}$ , a 3 x 3 matrix, by $W^{(2)}$ , a 3 x 1 matrix results in a 3 x 1 matrix $z^{(3)}$, the activity or our third layer. $z^{(3)}$ has three activity values, one for each example. \n",
    "\n",
    "Finally, we'll apply our activation function to $z^{(3)}$ yielding our official estimate of your test score, $\\hat{y}$.  \n",
    "\n",
    "$$\n",
    "z^{(3)} = a^{(2)}W^{(2)} \\tag{3}\\\\\n",
    "$$\n",
    "$$\n",
    "\\hat{y} = f(z^{(3)}) \\tag{4}\\\\\n",
    "$$"
   ]
  },
  {
   "cell_type": "markdown",
   "metadata": {},
   "source": [
    "Of course the predictions from this network are going to be pointlessly bad, as the weights are random at this point. We need to create a way by which we can optimize the weights cleanly \n",
    "\n",
    "---\n",
    "## Loss & Cost Function\n",
    "----\n",
    "\n",
    "When someone says they’re training a network, what they really mean is that they're minimizing a **cost** function. \n",
    "\n",
    "**Loss:** A quantification of prediction error\n",
    "\n",
    "**Cost:** A quantification of prediction error with respect to the overall objectives of the model\n",
    "\n",
    "**Objective:** Any function to be optimized in machine learning\n",
    "\n",
    "The standard approach to adding in loss to machine learning cost functions is to use a squared loss:\n",
    "\n",
    "$$\n",
    "J = \\sum \\frac{1}{2}(y-\\hat{y})^2 \\tag{5}\n",
    "$$\n",
    "\n",
    "And this is what we are going to do in this case."
   ]
  },
  {
   "cell_type": "markdown",
   "metadata": {},
   "source": [
    "# Implementation I: Forward Propagation\n",
    "\n",
    "$$\n",
    "z^{(2)} = XW^{(1)} \\tag{1}\\\\\n",
    "$$\n",
    "$$\n",
    "a^{(2)} = f(z^{(2)}) \\tag{2}\\\\\n",
    "$$\n",
    "$$\n",
    "z^{(3)} = a^{(2)}W^{(2)} \\tag{3}\\\\\n",
    "$$\n",
    "$$\n",
    "\\hat{y} = f(z^{(3)}) \\tag{4}\\\\\n",
    "$$\n",
    "$$\n",
    "J = \\sum \\frac{1}{2}(y-\\hat{y})^2 \\tag{5}\\\\\n",
    "$$\n",
    "\n",
    "\n",
    "At this point, we can implement all of the above vector equations and ideas in a class structure:"
   ]
  },
  {
   "cell_type": "code",
   "execution_count": 5,
   "metadata": {
    "collapsed": true
   },
   "outputs": [],
   "source": [
    "class NeuralNetwork:\n",
    "    \"Simple neural network\"\n",
    "    \n",
    "    def __init__(self):  \n",
    "        # Network architecture      \n",
    "        self.input_layer_size  = 2\n",
    "        self.hidden_layer_size = 3\n",
    "        self.output_layer_size = 1\n",
    "        \n",
    "        # Weights \n",
    "        self.W1 = np.random.randn(self.input_layer_size, self.hidden_layer_size)\n",
    "        self.W2 = np.random.randn(self.hidden_layer_size, self.output_layer_size)\n",
    "\n",
    "    def cost_function(self, X, y):\n",
    "        \"Compute cost for given X,y, use weights already stored in class.\"\n",
    "        self.y_hat = self.forward(X)\n",
    "        J = 0.5*sum((y-self.y_hat)**2)\n",
    "        return J\n",
    "        \n",
    "    def forward(self, X):\n",
    "        \"Propagates inputs forward though network\"\n",
    "        self.z2 = np.dot(X, self.W1)\n",
    "        self.a2 = self.sigmoid(self.z2)\n",
    "        self.z3 = np.dot(self.a2, self.W2)\n",
    "        yHat = self.sigmoid(self.z3) \n",
    "        return yHat\n",
    "\n",
    "    @staticmethod\n",
    "    def sigmoid(z):\n",
    "        \"Define sigmoid activation function to scalar, vector, or matrix\"\n",
    "        return 1/(1+np.exp(-z))"
   ]
  },
  {
   "cell_type": "markdown",
   "metadata": {},
   "source": [
    "This is a relatively complex system of 5 equations, however, since they are chained together, we can think of them as a single big equation. \n",
    "\n",
    "And since we have one big equation that uniquely determines our cost, $J$, from $X$, $y$, $W^{(1)}$, and $W^{(2)}$, we can use our good friend calculus to find what we're looking for.\n",
    "\n",
    "We want to know \"which way is downhill\", that is, what is the rate of change of $J$ with respect to $W$, also known as the derivative. And in this case, since we’re just considering one weight at a time, the partial derivative. \n",
    "\n",
    "We can derive an expression for $\\dfrac{\\partial{J}}{\\partial{W}}$, that will give us the rate of change of J with respect to W, for any value of W! If $\\dfrac{\\partial{J}}{\\partial{W}}$ is positive, then the cost function is going uphill (regardless of its shape or level of complication). If $\\dfrac{\\partial{J}}{\\partial{W}}$ is negative, the cost function is going downhill (and thus getting better). \n",
    "\n",
    "Now we can really speed things up. Since we **know beforehand** in which direction the cost decreases, we can save all that time we would have spent searching in the wrong direction. We can save even more computational time by iteratively taking steps downhill and stopping when the cost stops getting smaller. This is of course, the familiar [**gradient descent**](http://www.onmyphd.com/?p=gradient.descent).\n",
    "\n",
    "In order to employ gradient descent on this system, we need to use the same approach as we did for logistic regression. Our hueristic is this:\n",
    "\n",
    "As the optimization continues over step $k$, the weights need to change in the direction that **minimizes** cost:\n",
    "\n",
    "$$\\Delta W_{k} = \\lambda \\dfrac{\\partial{J}}{\\partial{W_k}}$$\n",
    "\n",
    "The gradient descent step line would then be as follows:\n",
    "\n",
    "$$W_{k+1} = W_{k} - \\lambda \\dfrac{\\partial{J}}{\\partial{W_k}}$$\n",
    "\n",
    "The task is now to derive a function that provides these values for $\\dfrac{\\partial{J}}{\\partial{W_k}}$."
   ]
  },
  {
   "cell_type": "markdown",
   "metadata": {},
   "source": [
    "## Implementation 2: Backpropagation and Gradient Descent\n",
    "\n",
    "\n",
    "<h3 align = 'center'> Variables </h3>\n",
    "\n",
    "|Code Symbol | Math Symbol | Definition | Dimensions\n",
    "| :-: | :-: | :-: | :-: |\n",
    "|X|$$X$$|Input Data, each row in an example| (numExamples, inputLayerSize)|\n",
    "|y |$$y$$|target data|(numExamples, outputLayerSize)|\n",
    "|W1 | $$W^{(1)}$$ | Layer 1 weights | (inputLayerSize, hiddenLayerSize) |\n",
    "|W2 | $$W^{(2)}$$ | Layer 2 weights | (hiddenLayerSize, outputLayerSize) |\n",
    "|z2 | $$z^{(2)}$$ | Layer 2 activation | (numExamples, hiddenLayerSize) |\n",
    "|a2 | $$a^{(2)}$$ | Layer 2 activity | (numExamples, hiddenLayerSize) |\n",
    "|z3 | $$z^{(3)}$$ | Layer 3 activation | (numExamples, outputLayerSize) |\n",
    "|J | $$J$$ | Cost | (1, outputLayerSize) |\n",
    "|dJdz3 | $$\\frac{\\partial J}{\\partial z^{(3)} } = \\delta^{(3)}$$ | Partial derivative of cost with respect to $z^{(3)}$ | (numExamples,outputLayerSize)|\n",
    "|dJdW2|$$\\frac{\\partial J}{\\partial W^{(2)}}$$|Partial derivative of cost with respect to $W^{(2)}$|(hiddenLayerSize, outputLayerSize)|\n",
    "|dz3dz2|$$\\frac{\\partial z^{(3)}}{\\partial z^{(2)}}$$|Partial derivative of $z^{(3)}$ with respect to $z^{(2)}$|(numExamples, hiddenLayerSize)|\n",
    "|dJdW1|$$\\frac{\\partial J}{\\partial W^{(1)}}$$|Partial derivative of cost with respect to $W^{(1)}$|(inputLayerSize, hiddenLayerSize)|\n",
    "|delta2|$$\\delta^{(2)}$$|Backpropagating Error 2|(numExamples,hiddenLayerSize)|\n",
    "|delta3|$$\\delta^{(3)}$$|Backpropagating Error 1|(numExamples,outputLayerSize)|"
   ]
  },
  {
   "cell_type": "markdown",
   "metadata": {},
   "source": [
    "Our weights, W, are spread across two matrices, $W^{(1)}$, the input layer, and $W^{(2)}$, the middle or hidden layer. We’ll separate our dJ/dW computation in the same way, by computing dJdW1 and dJdW2 independently. We should have just as many gradient values as weight values, so when we’re done, our matrices $\\dfrac{\\partial{J}}{\\partial{W^{(1)}}}$ and  $\\dfrac{\\partial{J}}{\\partial{W^{(2)}}}$ will be the same size as  $W^{(1)}$ and  $W^{(2)}$."
   ]
  },
  {
   "cell_type": "markdown",
   "metadata": {},
   "source": [
    "### Rate of change of hidden layer $ \\frac{\\partial J}{\\partial W^{(2)}}$"
   ]
  },
  {
   "cell_type": "markdown",
   "metadata": {},
   "source": [
    "We will work on the hidden layer first, starting with the cost function itself:\n",
    "    \n",
    "$$ \\frac{\\partial J}{\\partial W^{(2)}} = \\frac{\\partial \\sum \\frac{1}{2}(y-\\hat{y})^2}{\\partial W^{(2)}} = \\sum \\frac{\\partial \\frac{1}{2}(y-\\hat{y})^2}{\\partial W^{(2)}} \\tag{6}$$\n",
    "\n",
    "(Calculus rule - derivative of sums is the sum of derivatives)"
   ]
  },
  {
   "cell_type": "markdown",
   "metadata": {},
   "source": [
    "$$\n",
    "\\frac{\\partial J}{\\partial W^{(2)}} = -(y-\\hat{y}) \\frac{\\partial \\hat{y}}{\\partial W^{(2)}} \\tag{7}\n",
    "$$\n",
    "(Calculus rule - chain rule. $\\frac{\\partial y}{\\partial W^{(2)}} = 0)$"
   ]
  },
  {
   "cell_type": "markdown",
   "metadata": {},
   "source": [
    "Because $\\hat{y}$ is a function of $z^{(3)}$ (equation 4), we need to break down the right side partial derivative into its chain dependency:\n",
    "\n",
    "$$\n",
    "\\frac{\\partial J}{\\partial W^{(2)}} = \n",
    "-(y-\\hat{y})\n",
    "\\frac{\\partial \\hat{y}}{\\partial z^{(3)}}  \n",
    "\\frac{\\partial z^{(3)}}{\\partial W^{(2)}} \\tag{8}\n",
    "$$"
   ]
  },
  {
   "cell_type": "markdown",
   "metadata": {},
   "source": [
    "Lastly we need to add the derivative of the sigmoid function:\n",
    "\n",
    "$$\n",
    "f(z) = \\frac{1}{1+e^{-z}} \\\\ \n",
    "\\frac{\\partial f}{\\partial z} = \\frac{e^{-z}}{(1+e^{-z})^2} \\tag{9}\n",
    "$$"
   ]
  },
  {
   "cell_type": "markdown",
   "metadata": {},
   "source": [
    "Combining these together, we are getting close to a single function:\n",
    "\n",
    "$$\n",
    "\\frac{\\partial J}{\\partial W^{(2)}}= \n",
    "-(y-\\hat{y}) \\frac{\\partial f(z^{(3)})}{\\partial z} \\frac{\\partial z^{(3)}}{\\partial W^{(2)}} \\tag{10}\n",
    "$$"
   ]
  },
  {
   "cell_type": "markdown",
   "metadata": {},
   "source": [
    "The last partial derivative can be replaced with a function if we look back at equation 3:\n",
    "\n",
    "$$\n",
    "z^{(3)} = a^{(2)}W^{(2)} \\tag{3}\\\\\n",
    "$$\n",
    "\n",
    "Again this equation simply states that $Z^{(3)}$ is the matrix product of $a^{(2)}$ and our weights from the hidden layer, $W^{(2)}$. Thus a single synapse has a  linear relationship with its weights, and thus the slope of its response is simply the activation level on that synapse: $a^{(2)}$.\n",
    "\n",
    "$$\n",
    "\\frac{\\partial z^{(3)}}{\\partial W^{(2)}} = a^{(2)} \\tag{11}\\\\\n",
    "$$"
   ]
  },
  {
   "cell_type": "markdown",
   "metadata": {},
   "source": [
    "We need to be careful with our dimensionality here, and if we’re clever, we can take care of that summation we got rid of earlier by using vector product,\n",
    "\n",
    "The first part of our equation, $(y-\\hat{y})$ is of the same dimension as our output data, 3x1. \n",
    "\n",
    "$\\dfrac{\\partial f(z^{(3)})}{\\partial z}$ is of the same size, 3x1, and our first operation is scalar multiplication. Each value in the resulting 3x1 matrix needs to be multiplied by each activity. We can achieve this by transposing  $a^{(2)}$ (currently a row vector) and matrix multiplying: \n",
    "\n",
    "$$\n",
    "\\frac{\\partial J}{\\partial W^{(2)}}= \n",
    "-(a^{(2)})^{T} (y-\\hat{y}) \\frac{\\partial f(z^{(3)})}{\\partial z} \\tag{12}\n",
    "$$"
   ]
  },
  {
   "cell_type": "markdown",
   "metadata": {},
   "source": [
    "### Rate of change of input layer $ \\frac{\\partial J}{\\partial W^{(1)}}$\n",
    "\n",
    "We have one final term to compute: dJ/dW1. It begins the same, however, we now take the derivative “across” our synapses, this is a little different from our job last time, computing the derivative with respect to the weights on our synapses. "
   ]
  },
  {
   "cell_type": "markdown",
   "metadata": {},
   "source": [
    "$$\n",
    "\\frac{\\partial J}{\\partial W^{(1)}} = (y-\\hat{y})\n",
    "\\frac{\\partial \\hat{y}}{\\partial W^{(1)}} \\tag{13}\n",
    "$$\n",
    "\n",
    "$$\n",
    "\\frac{\\partial J}{\\partial W^{(1)}} = (y-\\hat{y})\n",
    "\\frac{\\partial \\hat{y}}{\\partial z^{(3)}}\n",
    "\\frac{\\partial z^{(3)}}{\\partial W^{(1)}} \\tag{14}\n",
    "$$\n",
    "\n",
    "$$\n",
    "\\frac{\\partial J}{\\partial W^{(1)}} = -(y-\\hat{y})\\frac{\\partial f(z^{(3)})}{\\partial z} \\frac{\\partial z^{(3)}}{\\partial W^{(1)}} \\tag{14}\n",
    "$$\n",
    "\n",
    "$$\n",
    "\\frac{\\partial z^{(3)}}{\\partial W^{(1)}} = \\frac{\\partial z^{(3)}}{\\partial a^{(2)}}\\frac{\\partial a^{(2)}}{\\partial W^{(1)}} \\tag{15}\n",
    "$$"
   ]
  },
  {
   "cell_type": "markdown",
   "metadata": {},
   "source": [
    "There’s still a nice linear relationship along each synapse, but now we’re interested in the rate of change of $z^{(3)}$ with respect to $a^{(2)}$. Again using equation 3, now the slope is just equal to the weight value for that synapse. "
   ]
  },
  {
   "cell_type": "markdown",
   "metadata": {},
   "source": [
    "$$\n",
    "\\frac{\\partial J}{\\partial W^{(1)}} = \\delta^{(3)} \n",
    "(W^{(2)})^{T}\n",
    "\\frac{\\partial a^{(2)}}{\\partial W^{(1)}} \\tag{16}\\\\\n",
    "$$\n",
    "$$\n",
    "\\frac{\\partial J}{\\partial W^{(1)}} = \\delta^{(3)} \n",
    "(W^{(2)})^{T}\n",
    "\\frac{\\partial a^{(2)}}{\\partial z^{(2)}} \n",
    "\\frac{\\partial z^{(2)}}{\\partial W^{(1)}} \\tag{17}\n",
    "$$"
   ]
  },
  {
   "cell_type": "markdown",
   "metadata": {},
   "source": [
    "$\\dfrac{\\partial a^{(2)}}{\\partial z^{(2)}} $ is exactly the same activation function as before, with the same derivative, so we can throw it in there as we did before:\n",
    "\n",
    "$$\n",
    "\\frac{\\partial J}{\\partial W^{(1)}} = \\delta^{(3)} \n",
    "(W^{(2)})^{T}\n",
    "\\frac{\\partial f(z^{(2)})}{\\partial z} \n",
    "\\frac{\\partial z^{(2)}}{\\partial W^{(1)}} \\tag{18}\n",
    "$$"
   ]
  },
  {
   "cell_type": "markdown",
   "metadata": {},
   "source": [
    "Lastly, we need a term for the last partial derivative. Looking back at equation 1, we can see that this is simply a linear relationship:\n",
    "\n",
    "\n",
    "$$\n",
    "z^{(2)} = XW^{(1)} \\tag{1}\n",
    "$$\n",
    "\n",
    "$$\n",
    "\\frac{\\partial z^{(2)}}{\\partial W^{(1)}} = X \\tag{19}\n",
    "$$"
   ]
  },
  {
   "cell_type": "markdown",
   "metadata": {},
   "source": [
    "$$\n",
    "\\frac{\\partial J}{\\partial W^{(1)}} = \n",
    "X^{T}\n",
    "\\delta^{(3)} \n",
    "(W^{(2)})^{T}\n",
    "f^\\prime(z^{(2)}) \\tag{20}\n",
    "$$"
   ]
  },
  {
   "cell_type": "markdown",
   "metadata": {},
   "source": [
    "Now we can upgrade our code to reflect these ideas:"
   ]
  },
  {
   "cell_type": "code",
   "execution_count": 6,
   "metadata": {},
   "outputs": [
    {
     "name": "stdout",
     "output_type": "stream",
     "text": [
      "Populating the interactive namespace from numpy and matplotlib\n"
     ]
    }
   ],
   "source": [
    "import seaborn as sns\n",
    "import pandas as pd\n",
    "%pylab inline"
   ]
  },
  {
   "cell_type": "code",
   "execution_count": 7,
   "metadata": {
    "collapsed": true
   },
   "outputs": [],
   "source": [
    "# %%writefile neural_network.py\n",
    "import numpy as np\n",
    "\n",
    "class NeuralNetwork:\n",
    "    \"Simple neural network\"\n",
    "    \n",
    "    def __init__(self):  \n",
    "        # Network architecture      \n",
    "        self.input_layer_size  = 2\n",
    "        self.hidden_layer_size = 3\n",
    "        self.output_layer_size = 1\n",
    "        \n",
    "        # Weights \n",
    "        self.W1 = np.random.randn(self.input_layer_size, self.hidden_layer_size)\n",
    "        self.W2 = np.random.randn(self.hidden_layer_size, self.output_layer_size)\n",
    "        \n",
    "    def cost_function(self, X, y):\n",
    "        \"Compute cost for given X,y, use weights already stored in class.\"\n",
    "        self.y_hat = self.forward(X)\n",
    "        J = 0.5*sum((y-self.y_hat)**2)\n",
    "        return J\n",
    "    \n",
    "    def cost_function_prime(self, X, y):\n",
    "        \"Compute derivative with respect to W and W2 for a given X and y:\"\n",
    "        self.y_hat = self.forward(X)\n",
    "        \n",
    "        delta3 = np.multiply(-(y-self.y_hat), self.sigmoid_prime(self.z3))\n",
    "        dJdW2 = np.dot(self.a2.T, delta3)\n",
    "        \n",
    "        delta2 = np.dot(delta3, self.W2.T)*self.sigmoid_prime(self.z2)\n",
    "        dJdW1 = np.dot(X.T, delta2)  \n",
    "        \n",
    "        return dJdW1, dJdW2\n",
    "    \n",
    "    def forward(self, X):\n",
    "        \"Propagate inputs though network\"\n",
    "        self.z2 = np.dot(X, self.W1)\n",
    "        self.a2 = self.sigmoid(self.z2)\n",
    "        self.z3 = np.dot(self.a2, self.W2)\n",
    "        yHat = self.sigmoid(self.z3) \n",
    "        return yHat\n",
    "\n",
    "    @staticmethod\n",
    "    def sigmoid(z):\n",
    "        \"Define sigmoid activation function to scalar, vector, or matrix\"\n",
    "        return 1/(1+np.exp(-z)) \n",
    "\n",
    "    def sigmoid_prime(self,z):\n",
    "        \"Gradient of sigmoid\"\n",
    "        return np.exp(-z)/((1+np.exp(-z))**2)\n",
    "    \n",
    "    #####################################################\n",
    "    # Helper Functions\n",
    "    def get_params(self):\n",
    "        \"Transform W1 and W2 unrolled into vector\"\n",
    "        params = np.concatenate((self.W1.ravel(), self.W2.ravel()))\n",
    "        return params\n",
    "    \n",
    "    def set_params(self, params):\n",
    "        \"Set W1 and W2 using single paramater vector.\"\n",
    "        W1_start = 0\n",
    "        W1_end = self.hidden_layer_size * self.input_layer_size\n",
    "        self.W1 = np.reshape(params[W1_start:W1_end], (self.input_layer_size , self.hidden_layer_size))\n",
    "        W2_end = W1_end + self.hidden_layer_size*self.output_layer_size\n",
    "        self.W2 = np.reshape(params[W1_end:W2_end], (self.hidden_layer_size, self.output_layer_size))\n",
    "        \n",
    "    def compute_gradients(self, X, y):\n",
    "        dJdW1, dJdW2 = self.cost_function_prime(X, y)\n",
    "        return np.concatenate((dJdW1.ravel(), dJdW2.ravel()))\n",
    "        "
   ]
  },
  {
   "cell_type": "markdown",
   "metadata": {},
   "source": [
    "So how should we change our W’s to decrease our cost? We can now compute dJ/dW, which tells us which way is uphill in our 9 dimensional optimization space. "
   ]
  },
  {
   "cell_type": "code",
   "execution_count": 8,
   "metadata": {},
   "outputs": [
    {
     "data": {
      "text/plain": [
       "array([[ 0.00271872, -0.03362636,  0.0063695 ],\n",
       "       [ 0.00169745, -0.02059805,  0.00478809]])"
      ]
     },
     "execution_count": 8,
     "metadata": {},
     "output_type": "execute_result"
    }
   ],
   "source": [
    "# from neural_network import *\n",
    "# X = (hours sleeping, hours studying), y = Score on test\n",
    "X = np.array(([3,5], [5,1], [10,2]), dtype=float)\n",
    "y = np.array(([75], [82], [93]), dtype=float)\n",
    "\n",
    "X /= np.amax(X, axis=0)\n",
    "y /= 100\n",
    "\n",
    "\n",
    "NN = NeuralNetwork()\n",
    "cost1 = NN.cost_function(X,y)\n",
    "dJdW1, dJdW2 = NN.cost_function_prime(X,y)\n",
    "dJdW1"
   ]
  },
  {
   "cell_type": "markdown",
   "metadata": {},
   "source": [
    "Now we can look at a couple iterations of the gradient descent process"
   ]
  },
  {
   "cell_type": "code",
   "execution_count": 9,
   "metadata": {
    "collapsed": true
   },
   "outputs": [],
   "source": [
    "scalar = 3\n",
    "dJdW1, dJdW2 = NN.cost_function_prime(X,y)\n",
    "NN.W1 = NN.W1 - scalar*dJdW1\n",
    "NN.W2 = NN.W2 - scalar*dJdW2\n",
    "cost2 = NN.cost_function(X,y)\n",
    "\n",
    "dJdW1, dJdW2 = NN.cost_function_prime(X,y)\n",
    "NN.W1 = NN.W1 - scalar*dJdW1\n",
    "NN.W2 = NN.W2 - scalar*dJdW2\n",
    "cost3 = NN.cost_function(X, y)"
   ]
  },
  {
   "cell_type": "code",
   "execution_count": 10,
   "metadata": {},
   "outputs": [
    {
     "name": "stdout",
     "output_type": "stream",
     "text": [
      "0.111475260296 0.0281586924626 0.0145612199188\n"
     ]
    }
   ],
   "source": [
    "print(cost1, cost2, cost3)"
   ]
  },
  {
   "cell_type": "markdown",
   "metadata": {},
   "source": [
    "## Training\n",
    "\n",
    "\n",
    "We need to train our model. We'll talk more about training soon.\n",
    "\n",
    "For today, I wrote a training class to help us."
   ]
  },
  {
   "cell_type": "code",
   "execution_count": 11,
   "metadata": {
    "collapsed": true
   },
   "outputs": [],
   "source": [
    "# %%writefile -a neural_network.py\n",
    "\n",
    "from scipy import optimize"
   ]
  },
  {
   "cell_type": "code",
   "execution_count": 12,
   "metadata": {
    "collapsed": true
   },
   "outputs": [],
   "source": [
    "class Trainer:\n",
    "\n",
    "    def __init__(self, N):\n",
    "        \"Make Local reference to network\"\n",
    "        self.N = N\n",
    "        \n",
    "    def callbackF(self, params):\n",
    "        self.N.set_params(params)\n",
    "        self.J.append(self.N.cost_function(self.X, self.y))   \n",
    "        \n",
    "    def costFunctionWrapper(self, params, X, y):\n",
    "        self.N.set_params(params)\n",
    "        cost = self.N.cost_function(X, y)\n",
    "        grad = self.N.compute_gradients(X,y)\n",
    "        \n",
    "        return cost, grad\n",
    "        \n",
    "    def train(self, X, y, maxiter=50):\n",
    "\n",
    "        self.X = X\n",
    "        self.y = y\n",
    "        self.J = [] # Empty list to store costs\n",
    "        \n",
    "        params0 = self.N.get_params() # Intial parameters at epoch 0\n",
    "\n",
    "        options = {'maxiter': maxiter, 'disp' : True}\n",
    "        _res = optimize.minimize(self.costFunctionWrapper,\n",
    "                                 params0,\n",
    "                                 jac=True,\n",
    "                                 method='BFGS',\n",
    "                                 args=(X, y), \n",
    "                                 options=options,\n",
    "                                 callback=self.callbackF)\n",
    "        self.N.set_params(_res.x)\n",
    "        self.optimizationResults = _res"
   ]
  },
  {
   "cell_type": "code",
   "execution_count": 13,
   "metadata": {
    "collapsed": true
   },
   "outputs": [],
   "source": [
    "class Trainer:\n",
    "\n",
    "    def __init__(self, N):\n",
    "        \"Make Local reference to network\"\n",
    "        self.N = N\n",
    "        \n",
    "    def callbackF(self, params):\n",
    "        self.N.set_params(params)\n",
    "        self.J.append(self.N.cost_function(self.X, self.y))   \n",
    "        \n",
    "    def costFunctionWrapper(self, params, X, y):\n",
    "        self.N.set_params(params)\n",
    "        cost = self.N.cost_function(X, y)\n",
    "        grad = self.N.compute_gradients(X,y)\n",
    "        \n",
    "        return cost, grad\n",
    "        \n",
    "    def train(self, X, y, maxiter=50):\n",
    "\n",
    "        self.X = X\n",
    "        self.y = y\n",
    "        self.J = [] # Empty list to store costs\n",
    "        \n",
    "        params0 = self.N.get_params() # Intial parameters at epoch 0\n",
    "\n",
    "        options = {'maxiter': maxiter, 'disp' : True}\n",
    "        _res = optimize.minimize(self.costFunctionWrapper,\n",
    "                                 params0,\n",
    "                                 jac=True,\n",
    "                                 method='BFGS',\n",
    "                                 args=(X, y), \n",
    "                                 options=options,\n",
    "                                 callback=self.callbackF)\n",
    "        self.N.set_params(_res.x)\n",
    "        self.optimizationResults = _res"
   ]
  },
  {
   "cell_type": "code",
   "execution_count": 14,
   "metadata": {
    "collapsed": true
   },
   "outputs": [],
   "source": [
    "# from neural_network import *"
   ]
  },
  {
   "cell_type": "code",
   "execution_count": 15,
   "metadata": {},
   "outputs": [
    {
     "name": "stdout",
     "output_type": "stream",
     "text": [
      "Warning: Maximum number of iterations has been exceeded.\n",
      "         Current function value: 0.000123\n",
      "         Iterations: 50\n",
      "         Function evaluations: 57\n",
      "         Gradient evaluations: 57\n"
     ]
    }
   ],
   "source": [
    "nn = NeuralNetwork()\n",
    "t = Trainer(nn)\n",
    "t.train(X, y)"
   ]
  },
  {
   "cell_type": "code",
   "execution_count": 16,
   "metadata": {},
   "outputs": [
    {
     "data": {
      "image/png": "[encoded data removed]",
      "text/plain": [
       "<matplotlib.figure.Figure at 0x263ffc54860>"
      ]
     },
     "metadata": {},
     "output_type": "display_data"
    }
   ],
   "source": [
    "plt.plot(t.J)\n",
    "plt.grid(1)\n",
    "xlabel('Iterations')\n",
    "ylabel('Cost');"
   ]
  },
  {
   "cell_type": "code",
   "execution_count": 17,
   "metadata": {},
   "outputs": [
    {
     "data": {
      "text/html": [
       "<div>\n",
       "<style>\n",
       "    .dataframe thead tr:only-child th {\n",
       "        text-align: right;\n",
       "    }\n",
       "\n",
       "    .dataframe thead th {\n",
       "        text-align: left;\n",
       "    }\n",
       "\n",
       "    .dataframe tbody tr th {\n",
       "        vertical-align: top;\n",
       "    }\n",
       "</style>\n",
       "<table border=\"1\" class=\"dataframe\">\n",
       "  <thead>\n",
       "    <tr style=\"text-align: right;\">\n",
       "      <th></th>\n",
       "      <th>y_observed</th>\n",
       "      <th>y_predicted</th>\n",
       "    </tr>\n",
       "  </thead>\n",
       "  <tbody>\n",
       "    <tr>\n",
       "      <th>0</th>\n",
       "      <td>0.75</td>\n",
       "      <td>0.749740</td>\n",
       "    </tr>\n",
       "    <tr>\n",
       "      <th>1</th>\n",
       "      <td>0.82</td>\n",
       "      <td>0.826891</td>\n",
       "    </tr>\n",
       "    <tr>\n",
       "      <th>2</th>\n",
       "      <td>0.93</td>\n",
       "      <td>0.915914</td>\n",
       "    </tr>\n",
       "  </tbody>\n",
       "</table>\n",
       "</div>"
      ],
      "text/plain": [
       "   y_observed  y_predicted\n",
       "0        0.75     0.749740\n",
       "1        0.82     0.826891\n",
       "2        0.93     0.915914"
      ]
     },
     "execution_count": 17,
     "metadata": {},
     "output_type": "execute_result"
    }
   ],
   "source": [
    "pd.DataFrame({'y_predicted': t.N.y_hat.flatten().tolist(),\n",
    "           'y_observed': y.flatten().tolist()})"
   ]
  },
  {
   "cell_type": "code",
   "execution_count": 18,
   "metadata": {
    "collapsed": true
   },
   "outputs": [],
   "source": [
    "df_results = pd.DataFrame({'y_predicted': t.N.y_hat.flatten().tolist(),\n",
    "           'y_observed': y.flatten().tolist()})"
   ]
  },
  {
   "cell_type": "code",
   "execution_count": 19,
   "metadata": {},
   "outputs": [
    {
     "data": {
      "image/png": "[encoded data removed]",
      "text/plain": [
       "<matplotlib.figure.Figure at 0x263ffc531d0>"
      ]
     },
     "metadata": {},
     "output_type": "display_data"
    }
   ],
   "source": [
    "# Compare estimate, y_hat, to actually score\n",
    "\n",
    "plt.bar([0,1,2], df_results.y_observed, width = 0.35, alpha=0.8);\n",
    "plt.bar([0.35,1.35,2.35], df_results.y_predicted, width = 0.35, color='r', alpha=0.8)\n",
    "plt.grid(1)\n",
    "legend(['y', 'y_hat']);"
   ]
  },
  {
   "cell_type": "markdown",
   "metadata": {},
   "source": [
    "## Review\n",
    "1. What happens if you decrease maxiter for the Trainer? \n",
    "2. What happens if you increase maxiter for the Trainer?\n",
    "3. Why does this happen? Think about the gradient.\n",
    "4. What happens if you don't scale the data?"
   ]
  },
  {
   "cell_type": "code",
   "execution_count": null,
   "metadata": {
    "collapsed": true
   },
   "outputs": [],
   "source": []
  }
 ],
 "metadata": {
  "kernelspec": {
   "display_name": "Python 3",
   "language": "python",
   "name": "python3"
  },
  "language_info": {
   "codemirror_mode": {
    "name": "ipython",
    "version": 3
   },
   "file_extension": ".py",
   "mimetype": "text/x-python",
   "name": "python",
   "nbconvert_exporter": "python",
   "pygments_lexer": "ipython3",
   "version": "3.6.3"
  },
  "latex_envs": {
   "LaTeX_envs_menu_present": true,
   "autoclose": false,
   "autocomplete": true,
   "bibliofile": "biblio.bib",
   "cite_by": "apalike",
   "current_citInitial": 1,
   "eqLabelWithNumbers": true,
   "eqNumInitial": 1,
   "hotkeys": {
    "equation": "Ctrl-E",
    "itemize": "Ctrl-I"
   },
   "labels_anchors": false,
   "latex_user_defs": false,
   "report_style_numbering": false,
   "user_envs_cfg": false
  }
 },
 "nbformat": 4,
 "nbformat_minor": 2
}
